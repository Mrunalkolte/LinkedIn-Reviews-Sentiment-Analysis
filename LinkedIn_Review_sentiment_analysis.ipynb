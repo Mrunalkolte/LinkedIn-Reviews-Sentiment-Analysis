{
 "cells": [
  {
   "cell_type": "markdown",
   "id": "bc377324-becc-4642-844e-ad2f2898b0e2",
   "metadata": {},
   "source": [
    "# LinkedIn Reviews Sentiment Analysis\n",
    "App Reviews Sentiment Analysis means evaluating and understanding the sentiment expressed in user reviews of mobile application"
   ]
  },
  {
   "cell_type": "code",
   "execution_count": 2,
   "id": "f7aad78d-ca30-4646-90e7-ccc7b86a496f",
   "metadata": {},
   "outputs": [],
   "source": [
    "import numpy as np\n",
    "import pandas as pd"
   ]
  },
  {
   "cell_type": "code",
   "execution_count": 3,
   "id": "eafa6eb0-f9e2-4339-9458-79cd234c91f3",
   "metadata": {},
   "outputs": [],
   "source": [
    "df=pd.read_csv(\"C:\\\\Mrunal\\\\Course_datasets\\\\linkedin-reviews.csv\")"
   ]
  },
  {
   "cell_type": "code",
   "execution_count": 4,
   "id": "8073ad0f-3d94-43f6-9633-004805bb4fa9",
   "metadata": {},
   "outputs": [
    {
     "data": {
      "text/html": [
       "<div>\n",
       "<style scoped>\n",
       "    .dataframe tbody tr th:only-of-type {\n",
       "        vertical-align: middle;\n",
       "    }\n",
       "\n",
       "    .dataframe tbody tr th {\n",
       "        vertical-align: top;\n",
       "    }\n",
       "\n",
       "    .dataframe thead th {\n",
       "        text-align: right;\n",
       "    }\n",
       "</style>\n",
       "<table border=\"1\" class=\"dataframe\">\n",
       "  <thead>\n",
       "    <tr style=\"text-align: right;\">\n",
       "      <th></th>\n",
       "      <th>Review</th>\n",
       "      <th>Rating</th>\n",
       "    </tr>\n",
       "  </thead>\n",
       "  <tbody>\n",
       "    <tr>\n",
       "      <th>0</th>\n",
       "      <td>Does absolutely nothing for a LinkedIn beginne...</td>\n",
       "      <td>1</td>\n",
       "    </tr>\n",
       "    <tr>\n",
       "      <th>1</th>\n",
       "      <td>Force close(galaxy tab)</td>\n",
       "      <td>1</td>\n",
       "    </tr>\n",
       "    <tr>\n",
       "      <th>2</th>\n",
       "      <td>Slow and it tries to upload your contacts with...</td>\n",
       "      <td>1</td>\n",
       "    </tr>\n",
       "    <tr>\n",
       "      <th>3</th>\n",
       "      <td>Add ability to customize the profile and move ...</td>\n",
       "      <td>4</td>\n",
       "    </tr>\n",
       "    <tr>\n",
       "      <th>4</th>\n",
       "      <td>Good app, but it's a pain that it's not possib...</td>\n",
       "      <td>4</td>\n",
       "    </tr>\n",
       "  </tbody>\n",
       "</table>\n",
       "</div>"
      ],
      "text/plain": [
       "                                              Review  Rating\n",
       "0  Does absolutely nothing for a LinkedIn beginne...       1\n",
       "1                            Force close(galaxy tab)       1\n",
       "2  Slow and it tries to upload your contacts with...       1\n",
       "3  Add ability to customize the profile and move ...       4\n",
       "4  Good app, but it's a pain that it's not possib...       4"
      ]
     },
     "execution_count": 4,
     "metadata": {},
     "output_type": "execute_result"
    }
   ],
   "source": [
    "df.head()"
   ]
  },
  {
   "cell_type": "code",
   "execution_count": 5,
   "id": "dc37d808-13b1-4733-8564-6f1cc0a2230d",
   "metadata": {},
   "outputs": [],
   "source": [
    "import matplotlib.pyplot as plt\n",
    "import seaborn as sns"
   ]
  },
  {
   "cell_type": "code",
   "execution_count": 6,
   "id": "1d989d5c-54ec-4c43-8d6a-9ec0dd5e5284",
   "metadata": {},
   "outputs": [
    {
     "name": "stdout",
     "output_type": "stream",
     "text": [
      "<class 'pandas.core.frame.DataFrame'>\n",
      "RangeIndex: 702 entries, 0 to 701\n",
      "Data columns (total 2 columns):\n",
      " #   Column  Non-Null Count  Dtype \n",
      "---  ------  --------------  ----- \n",
      " 0   Review  702 non-null    object\n",
      " 1   Rating  702 non-null    int64 \n",
      "dtypes: int64(1), object(1)\n",
      "memory usage: 11.1+ KB\n"
     ]
    }
   ],
   "source": [
    "df.info()"
   ]
  },
  {
   "cell_type": "markdown",
   "id": "61cf6bfc-d2b7-4309-99df-0244dc50760e",
   "metadata": {},
   "source": [
    "# EDA\n",
    "Plotting the distribution of rating"
   ]
  },
  {
   "cell_type": "code",
   "execution_count": 7,
   "id": "be325a0b-1b65-44d6-996a-3e533d91be15",
   "metadata": {},
   "outputs": [
    {
     "data": {
      "image/png": "[encoded data removed]",
      "text/plain": [
       "<Figure size 1000x500 with 1 Axes>"
      ]
     },
     "metadata": {},
     "output_type": "display_data"
    }
   ],
   "source": [
    "sns.set(style='darkgrid') #this is bckground and can be white, dark, whitegrid, darkgrid, ticks\n",
    "plt.figure(figsize=(10,5))\n",
    "sns.countplot(data=df,x='Rating')\n",
    "plt.title('Distribution of Ratings')\n",
    "plt.xlabel('Rating')\n",
    "plt.ylabel('Count')\n",
    "plt.show()"
   ]
  },
  {
   "cell_type": "markdown",
   "id": "b1d071e1-4a31-4633-833f-be54cdab92be",
   "metadata": {},
   "source": [
    "# Addding Sentitment Labels In data\n",
    "We will use Textblob library.TextBlob provides a polarity scores from -1 (very Negative)to +1 ( very Positive)for givem text.\n",
    "we can use this score to classify each reviews as positive , negative or neutral\n"
   ]
  },
  {
   "cell_type": "code",
   "execution_count": 8,
   "id": "4cba0b94-e1db-4bb4-ba2e-e8888344375e",
   "metadata": {},
   "outputs": [
    {
     "name": "stdout",
     "output_type": "stream",
     "text": [
      "Requirement already satisfied: textblob in c:\\users\\shrik\\anaconda3\\lib\\site-packages (0.18.0.post0)\n",
      "Requirement already satisfied: nltk>=3.8 in c:\\users\\shrik\\anaconda3\\lib\\site-packages (from textblob) (3.8.1)\n",
      "Requirement already satisfied: click in c:\\users\\shrik\\anaconda3\\lib\\site-packages (from nltk>=3.8->textblob) (8.1.7)\n",
      "Requirement already satisfied: joblib in c:\\users\\shrik\\anaconda3\\lib\\site-packages (from nltk>=3.8->textblob) (1.2.0)\n",
      "Requirement already satisfied: regex>=2021.8.3 in c:\\users\\shrik\\anaconda3\\lib\\site-packages (from nltk>=3.8->textblob) (2023.10.3)\n",
      "Requirement already satisfied: tqdm in c:\\users\\shrik\\anaconda3\\lib\\site-packages (from nltk>=3.8->textblob) (4.65.0)\n",
      "Requirement already satisfied: colorama in c:\\users\\shrik\\anaconda3\\lib\\site-packages (from click->nltk>=3.8->textblob) (0.4.6)\n"
     ]
    }
   ],
   "source": [
    "!pip install textblob"
   ]
  },
  {
   "cell_type": "code",
   "execution_count": 9,
   "id": "bf27e01c-df80-4ba2-a3fb-9ce31c24cd81",
   "metadata": {},
   "outputs": [],
   "source": [
    "\n",
    "from textblob import TextBlob"
   ]
  },
  {
   "cell_type": "code",
   "execution_count": 10,
   "id": "566e251e-ba00-4387-b2f2-7152a82ed4a7",
   "metadata": {},
   "outputs": [],
   "source": [
    "def sen_analysis(review):\n",
    "    sentiment=TextBlob(review).sentiment\n",
    "    if sentiment.polarity>0.1:\n",
    "        return 'Positive'\n",
    "    elif  sentiment.polarity<-0.1:\n",
    "        return 'Negative'\n",
    "    else:\n",
    "        return 'Neutral'\n",
    "        "
   ]
  },
  {
   "cell_type": "code",
   "execution_count": 11,
   "id": "b59e2dc1-ba32-4263-b7cb-1c45470f0dc3",
   "metadata": {},
   "outputs": [],
   "source": [
    "df['Sentiment']=df['Review'].apply(sen_analysis)"
   ]
  },
  {
   "cell_type": "code",
   "execution_count": 12,
   "id": "d67f1011-ff0f-41f9-9524-d76c369f38f8",
   "metadata": {},
   "outputs": [
    {
     "data": {
      "text/html": [
       "<div>\n",
       "<style scoped>\n",
       "    .dataframe tbody tr th:only-of-type {\n",
       "        vertical-align: middle;\n",
       "    }\n",
       "\n",
       "    .dataframe tbody tr th {\n",
       "        vertical-align: top;\n",
       "    }\n",
       "\n",
       "    .dataframe thead th {\n",
       "        text-align: right;\n",
       "    }\n",
       "</style>\n",
       "<table border=\"1\" class=\"dataframe\">\n",
       "  <thead>\n",
       "    <tr style=\"text-align: right;\">\n",
       "      <th></th>\n",
       "      <th>Review</th>\n",
       "      <th>Rating</th>\n",
       "      <th>Sentiment</th>\n",
       "    </tr>\n",
       "  </thead>\n",
       "  <tbody>\n",
       "    <tr>\n",
       "      <th>631</th>\n",
       "      <td>Space key on keyboard not working. Hope this i...</td>\n",
       "      <td>4</td>\n",
       "      <td>Neutral</td>\n",
       "    </tr>\n",
       "    <tr>\n",
       "      <th>93</th>\n",
       "      <td>Didn't like it. I'm uninstalling, other review...</td>\n",
       "      <td>1</td>\n",
       "      <td>Neutral</td>\n",
       "    </tr>\n",
       "    <tr>\n",
       "      <th>392</th>\n",
       "      <td>Can't even use it. If it gets fixed, I will ke...</td>\n",
       "      <td>1</td>\n",
       "      <td>Neutral</td>\n",
       "    </tr>\n",
       "    <tr>\n",
       "      <th>471</th>\n",
       "      <td>I love this app.it will help me expand my world!!</td>\n",
       "      <td>5</td>\n",
       "      <td>Positive</td>\n",
       "    </tr>\n",
       "    <tr>\n",
       "      <th>58</th>\n",
       "      <td>Ok but needs an option to move to SD card</td>\n",
       "      <td>2</td>\n",
       "      <td>Positive</td>\n",
       "    </tr>\n",
       "    <tr>\n",
       "      <th>206</th>\n",
       "      <td>I like it in general but it would be even bett...</td>\n",
       "      <td>4</td>\n",
       "      <td>Positive</td>\n",
       "    </tr>\n",
       "    <tr>\n",
       "      <th>173</th>\n",
       "      <td>this real slow</td>\n",
       "      <td>1</td>\n",
       "      <td>Negative</td>\n",
       "    </tr>\n",
       "    <tr>\n",
       "      <th>164</th>\n",
       "      <td>Worked exactly once the first time I run it, a...</td>\n",
       "      <td>4</td>\n",
       "      <td>Positive</td>\n",
       "    </tr>\n",
       "    <tr>\n",
       "      <th>451</th>\n",
       "      <td>Someone pls fix this app.</td>\n",
       "      <td>1</td>\n",
       "      <td>Neutral</td>\n",
       "    </tr>\n",
       "    <tr>\n",
       "      <th>103</th>\n",
       "      <td>Works well, just wish it had a few more featur...</td>\n",
       "      <td>4</td>\n",
       "      <td>Positive</td>\n",
       "    </tr>\n",
       "  </tbody>\n",
       "</table>\n",
       "</div>"
      ],
      "text/plain": [
       "                                                Review  Rating Sentiment\n",
       "631  Space key on keyboard not working. Hope this i...       4   Neutral\n",
       "93   Didn't like it. I'm uninstalling, other review...       1   Neutral\n",
       "392  Can't even use it. If it gets fixed, I will ke...       1   Neutral\n",
       "471  I love this app.it will help me expand my world!!       5  Positive\n",
       "58           Ok but needs an option to move to SD card       2  Positive\n",
       "206  I like it in general but it would be even bett...       4  Positive\n",
       "173                                     this real slow       1  Negative\n",
       "164  Worked exactly once the first time I run it, a...       4  Positive\n",
       "451                          Someone pls fix this app.       1   Neutral\n",
       "103  Works well, just wish it had a few more featur...       4  Positive"
      ]
     },
     "execution_count": 12,
     "metadata": {},
     "output_type": "execute_result"
    }
   ],
   "source": [
    "df.sample(10)"
   ]
  },
  {
   "cell_type": "markdown",
   "id": "76d688f5-bae1-43a0-be71-757ba3a86458",
   "metadata": {},
   "source": [
    "# Analyzing App Review Sentiments"
   ]
  },
  {
   "cell_type": "code",
   "execution_count": 13,
   "id": "e9f4bb88-398c-4968-a173-fb3f71746138",
   "metadata": {},
   "outputs": [
    {
     "data": {
      "text/plain": [
       "Sentiment\n",
       "Positive    298\n",
       "Neutral     297\n",
       "Negative    107\n",
       "Name: count, dtype: int64"
      ]
     },
     "execution_count": 13,
     "metadata": {},
     "output_type": "execute_result"
    }
   ],
   "source": [
    "sent_dist=df['Sentiment'].value_counts()\n",
    "sent_dist"
   ]
  },
  {
   "cell_type": "code",
   "execution_count": 14,
   "id": "3731a6ff-6cd5-4214-b85a-c1d4a530a87a",
   "metadata": {},
   "outputs": [
    {
     "data": {
      "image/png": "[encoded data removed]",
      "text/plain": [
       "<Figure size 1000x500 with 1 Axes>"
      ]
     },
     "metadata": {},
     "output_type": "display_data"
    }
   ],
   "source": [
    "plt.figure(figsize=(10,5))\n",
    "sns.barplot(x=sent_dist.index,y=sent_dist.values)\n",
    "plt.title('Distribution ofSentiments')\n",
    "plt.xlabel('Sentiment')\n",
    "plt.ylabel('Count')\n",
    "plt.show()"
   ]
  },
  {
   "cell_type": "markdown",
   "id": "59428c1b-7734-451d-af56-ff0acb4dbd91",
   "metadata": {},
   "source": [
    "# So We can see although the app has low ratings,still the reviews dont use many negative wordws in the reviews for the app\n",
    "now we will explore the relationship between the sentiments and the rating. This analysis can help us understand whether there is correlation between the sentiment of the text and numerical ratings"
   ]
  },
  {
   "cell_type": "code",
   "execution_count": 16,
   "id": "bf762e7d-703e-4eac-823a-599d4863f962",
   "metadata": {},
   "outputs": [
    {
     "data": {
      "image/png": "[encoded data removed]",
      "text/plain": [
       "<Figure size 1000x500 with 1 Axes>"
      ]
     },
     "metadata": {},
     "output_type": "display_data"
    }
   ],
   "source": [
    "plt.figure(figsize=(10,5))\n",
    "sns.countplot(data=df,x='Rating',hue='Sentiment')\n",
    "plt.title('Distribution of Sentiments')\n",
    "plt.xlabel('Rating')\n",
    "plt.ylabel('Sentiment')\n",
    "plt.show()"
   ]
  },
  {
   "cell_type": "markdown",
   "id": "d2e6451b-0653-40f4-b9bd-3d20a1b83d96",
   "metadata": {},
   "source": [
    "# Summary:\n",
    "App review sentiment analysis is valuable tool for busniess to understand user feedback prioritize features,updates and maintain positive user community it involves using data analysis techniques to determine whether the sentimenrt in the reviews are positive,negative and neutral"
   ]
  },
  {
   "cell_type": "code",
   "execution_count": null,
   "id": "8c166ffa-c71a-44dd-ac19-0232595ac43f",
   "metadata": {},
   "outputs": [],
   "source": []
  }
 ],
 "metadata": {
  "kernelspec": {
   "display_name": "Python 3 (ipykernel)",
   "language": "python",
   "name": "python3"
  },
  "language_info": {
   "codemirror_mode": {
    "name": "ipython",
    "version": 3
   },
   "file_extension": ".py",
   "mimetype": "text/x-python",
   "name": "python",
   "nbconvert_exporter": "python",
   "pygments_lexer": "ipython3",
   "version": "3.11.7"
  }
 },
 "nbformat": 4,
 "nbformat_minor": 5
}
